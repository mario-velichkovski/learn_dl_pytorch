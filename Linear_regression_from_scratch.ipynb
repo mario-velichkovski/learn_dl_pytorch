{
  "nbformat": 4,
  "nbformat_minor": 0,
  "metadata": {
    "colab": {
      "provenance": [],
      "authorship_tag": "ABX9TyPLGNsijyOMqGP8vVfXesVf"
    },
    "kernelspec": {
      "name": "python3",
      "display_name": "Python 3"
    },
    "language_info": {
      "name": "python"
    }
  },
  "cells": [
    {
      "cell_type": "code",
      "execution_count": 1,
      "metadata": {
        "id": "glWx7cqjqk4G"
      },
      "outputs": [],
      "source": [
        "import torch\n",
        "import torch.nn as nn\n",
        "import torch.nn.functional as F\n",
        "from torch.utils.data import TensorDataset, DataLoader, Dataset\n",
        "import matplotlib.pyplot as plt\n",
        "import typing"
      ]
    },
    {
      "cell_type": "code",
      "source": [
        "torch.manual_seed(0)\n",
        "\n",
        "# Generate random data\n",
        "n = 1500\n",
        "inputs = torch.rand((n, 3))\n",
        "inputs[:, 0] *= 100\n",
        "inputs[:, 1] *= 100\n",
        "inputs[:, 1] -= 50\n",
        "inputs[:, 2] *= 150\n",
        "\n",
        "w = torch.Tensor([2, -5, 10])\n",
        "b = torch.Tensor([50])\n",
        "\n",
        "targets = torch.mv(inputs, w) + b\n",
        "targets[:] = targets + torch.normal(mean=torch.zeros(n), std=10)\n",
        "targets = targets.reshape((-1, 1))\n",
        "\n",
        "inputs[:5], targets[:5]"
      ],
      "metadata": {
        "colab": {
          "base_uri": "https://localhost:8080/"
        },
        "id": "oVjmFKP4ryC-",
        "outputId": "9e2e3708-f6df-425a-8a33-f6c1932e3d52"
      },
      "execution_count": 2,
      "outputs": [
        {
          "output_type": "execute_result",
          "data": {
            "text/plain": [
              "(tensor([[ 49.6257,  26.8222,  13.2716],\n",
              "         [ 13.2030, -19.2577,  95.1118],\n",
              "         [ 49.0093,  39.6445,  68.3442],\n",
              "         [ 63.2306, -15.1107,  60.2576],\n",
              "         [  2.2326, -33.1141,  44.0833]]),\n",
              " tensor([[ 147.1879],\n",
              "         [1115.1689],\n",
              "         [ 643.1873],\n",
              "         [ 869.9697],\n",
              "         [ 641.5854]]))"
            ]
          },
          "metadata": {},
          "execution_count": 2
        }
      ]
    },
    {
      "cell_type": "code",
      "source": [
        "train_dataset = TensorDataset(inputs[:100], targets[:100])\n",
        "test_dataset = TensorDataset(inputs[100:], targets[100:])\n",
        "\n",
        "train_dataset[:5], test_dataset[:5]"
      ],
      "metadata": {
        "colab": {
          "base_uri": "https://localhost:8080/"
        },
        "id": "QZqcqflHtGD_",
        "outputId": "a3e2276c-4a88-4fce-cc68-68055069cda0"
      },
      "execution_count": 3,
      "outputs": [
        {
          "output_type": "execute_result",
          "data": {
            "text/plain": [
              "((tensor([[ 49.6257,  26.8222,  13.2716],\n",
              "          [ 13.2030, -19.2577,  95.1118],\n",
              "          [ 49.0093,  39.6445,  68.3442],\n",
              "          [ 63.2306, -15.1107,  60.2576],\n",
              "          [  2.2326, -33.1141,  44.0833]]),\n",
              "  tensor([[ 147.1879],\n",
              "          [1115.1689],\n",
              "          [ 643.1873],\n",
              "          [ 869.9697],\n",
              "          [ 641.5854]])),\n",
              " (tensor([[ 25.8766,   8.9823,  36.0407],\n",
              "          [ 61.5202,   9.8190,  19.3133],\n",
              "          [ 58.3249,  21.2965, 104.6873],\n",
              "          [ 43.7061, -40.9894,  63.4384],\n",
              "          [ 67.3654, -18.2439, 103.4686]]),\n",
              "  tensor([[ 431.4573],\n",
              "          [ 321.2775],\n",
              "          [1099.5724],\n",
              "          [ 986.2658],\n",
              "          [1304.5391]])))"
            ]
          },
          "metadata": {},
          "execution_count": 3
        }
      ]
    },
    {
      "cell_type": "code",
      "source": [
        "class LinearRegressionModel(nn.Module):\n",
        "  def __init__(self, n_features: int):\n",
        "    super().__init__()\n",
        "    self.w = nn.Parameter(torch.rand((n_features, 1)))\n",
        "    self.b = nn.Parameter(torch.rand(1))\n",
        "\n",
        "  def forward(self, X: torch.Tensor):\n",
        "    return torch.matmul(X, self.w) + self.b\n",
        "\n",
        "def test_model(model, test_dl: Dataset, loss_fn: typing.Callable):\n",
        "  model.eval()\n",
        "\n",
        "  test_loss = 0\n",
        "  test_loss_n = 0\n",
        "\n",
        "  with torch.inference_mode():\n",
        "    for x, y in test_dl:\n",
        "      pred = model(x)\n",
        "      loss = loss_fn(pred, y)\n",
        "\n",
        "      test_loss += loss\n",
        "      test_loss_n += 1\n",
        "  return float((test_loss / test_loss_n).numpy())"
      ],
      "metadata": {
        "id": "VuJR6xdYqria"
      },
      "execution_count": 4,
      "outputs": []
    },
    {
      "cell_type": "code",
      "source": [
        "BATCH_SIZE = 100\n",
        "LR = 1e-5\n",
        "EPOCHS = 100\n",
        "train_dl = DataLoader(train_dataset, batch_size = BATCH_SIZE, shuffle = True)\n",
        "test_dl = DataLoader(test_dataset, batch_size = BATCH_SIZE, shuffle = True)\n",
        "\n",
        "model = LinearRegressionModel(3)\n",
        "opt = torch.optim.SGD(model.parameters(), lr = LR)\n",
        "loss_fn = F.mse_loss\n",
        "\n",
        "epoch_losses = []\n",
        "epoch_test_losses = []\n",
        "\n",
        "for epoch in range(EPOCHS):\n",
        "  epoch_loss = 0\n",
        "  epoch_iters = 0\n",
        "\n",
        "  model.train()\n",
        "  opt.zero_grad()\n",
        "  for x, y in train_dl:\n",
        "    pred = model(x)\n",
        "    loss = loss_fn(pred, y)\n",
        "\n",
        "    # Perform gradient descent\n",
        "    loss.backward()\n",
        "    opt.step()\n",
        "\n",
        "    epoch_loss += loss\n",
        "    epoch_iters += 1\n",
        "\n",
        "  epoch_loss /= epoch_iters\n",
        "  epoch_loss = epoch_loss.detach().numpy()\n",
        "  epoch_losses.append(epoch_loss)\n",
        "\n",
        "  test_loss = test_model(model, test_dl, loss_fn) # switched to train mode\n",
        "  epoch_test_losses.append(test_loss)"
      ],
      "metadata": {
        "id": "L4XDT2apxg8c"
      },
      "execution_count": 5,
      "outputs": []
    },
    {
      "cell_type": "code",
      "source": [
        "plt.plot(epoch_losses)\n",
        "plt.plot(epoch_test_losses)\n",
        "plt.show()"
      ],
      "metadata": {
        "colab": {
          "base_uri": "https://localhost:8080/",
          "height": 430
        },
        "id": "AJAcFWJFVqUF",
        "outputId": "2fa5d5e9-a789-48be-c420-94e585eb3b1c"
      },
      "execution_count": 6,
      "outputs": [
        {
          "output_type": "display_data",
          "data": {
            "text/plain": [
              "<Figure size 640x480 with 1 Axes>"
            ],
            "image/png": "[encoded data removed]"
          },
          "metadata": {}
        }
      ]
    },
    {
      "cell_type": "code",
      "source": [
        "model.w, model.b"
      ],
      "metadata": {
        "colab": {
          "base_uri": "https://localhost:8080/"
        },
        "id": "D3LaXZUiIll_",
        "outputId": "342d1799-baa3-46e8-dc39-d340d61cfea6"
      },
      "execution_count": 7,
      "outputs": [
        {
          "output_type": "execute_result",
          "data": {
            "text/plain": [
              "(Parameter containing:\n",
              " tensor([[ 2.8012],\n",
              "         [-3.9780],\n",
              "         [10.1054]], requires_grad=True),\n",
              " Parameter containing:\n",
              " tensor([1.0038], requires_grad=True))"
            ]
          },
          "metadata": {},
          "execution_count": 7
        }
      ]
    }
  ]
}